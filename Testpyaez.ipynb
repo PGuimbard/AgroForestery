{
 "cells": [
  {
   "cell_type": "markdown",
   "id": "ee26ed47-120a-4973-9cb7-9c3c2094a83e",
   "metadata": {},
   "source": [
    "# Modèle AF (via PyAEZ)"
   ]
  },
  {
   "cell_type": "markdown",
   "id": "09a3d5b6-83e8-427d-82d7-5a9a9641d247",
   "metadata": {},
   "source": [
    "On utilise la bibliothèque PyAEZ, open source de la FAO, qui fonctionne comme suit :\n",
    "![title](images/pyaez_info.png)"
   ]
  },
  {
   "cell_type": "markdown",
   "id": "ccbf044f-7c86-4193-9ca5-05d1cca691ad",
   "metadata": {},
   "source": [
    "On commence par inialiser la partie agro-climatique en utilisant la latitude minimale et la longitude maimale de la parecelle, supposée rectangulaire (possibilité de mettre un masque sinon). \n",
    "\n",
    "On utilise le module python soilgrids et ? pour réunir les informations sur la parcelle."
   ]
  },
  {
   "cell_type": "code",
   "execution_count": 7,
   "id": "f05aea28-0a5e-42e3-9299-ce0ed7f57611",
   "metadata": {},
   "outputs": [],
   "source": [
    "#imports de modules\n",
    "import numpy as np\n",
    "import matplotlib.pyplot as plt\n",
    "import numpy as np\n",
    "import os\n",
    "try:\n",
    "    from osgeo import gdal\n",
    "except:\n",
    "    import gdal\n",
    "import sys\n",
    "import pyaez.ClimateRegime as ClimateRegime\n",
    "import pyaez.CropSimulation as CropSimulation\n",
    "import pyaez.UtilitiesCalc as UtilitiesCalc\n",
    "import pyaez.SoilConstraints as SoilConstraints\n",
    "import pyaez.ClimaticConstraints as ClimaticConstraints"
   ]
  },
  {
   "cell_type": "code",
   "execution_count": 8,
   "id": "27b7fa78-1a0e-4946-a66b-161e31b279d0",
   "metadata": {},
   "outputs": [],
   "source": [
    "def params_geo(lat_min,lat_max,freq):\n",
    "    \"\"\"recupere les données geo obtenues via soilgrids et ? selon la parcelle\n",
    "    A CODER\n",
    "    \"\"\"\n",
    "    return elevation, min_temp, rel_humidity, short_rad, wind_speed\n",
    "\n",
    "def init_params_geo(lat_min,lat_max,freq='daily'):\n",
    "    \"\"\"initialise les valeurs du modèle geo selon la localisation de la parcelle et la fréquence \n",
    "    des données géo\n",
    "    NB. Il est possible d'appliquer un masque sur la zone géographique pour des parcelles plus biscornues\n",
    "    \"\"\"\n",
    "    #initialisation du modèle climatique\n",
    "    clim_reg = ClimateRegime.ClimateRegime()\n",
    "    #3d numpy (x,y,t) des différents paramètres géo du modèle, via soilgrids\n",
    "    elevation, min_temp, rel_humidity, short_rad, wind_speed = params_geo(lat_min,lat_max,freq)\n",
    "    #masques anti valeurs aberrantes\n",
    "    rel_humidity[rel_humidity<0] = 0\n",
    "    short_rad[short_rad<0]=0\n",
    "    wind_speed[wind_speed<0]=0\n",
    "    #réglage des params long, lat et elevation\n",
    "    clim_reg.setLocationTerrainData(lat_min, lat_max, elevation)\n",
    "    #réglage des autres params selon fréquences des données (journalières ou par mois)\n",
    "    if freq == 'daily':\n",
    "        clim_reg.setDailyClimateData(min_temp, max_temp, precipitation, short_rad,wind_speed, rel_humidity)\n",
    "    else: #freq == 'monthly', moins précis\n",
    "        clim_reg.setMonthlyClimateData(min_temp, max_temp, precipitation, short_rad,wind_speed, rel_humidity)\n",
    "    return clim_reg\n",
    "\n",
    "def init_params_aez(lat_min,lat_max,freq='daily'):\n",
    "    \"\"\"initialise les valeurs du modèle agri selon la localisation de la parcelle et la fréquence \n",
    "    des données géo\n",
    "    NB. Il est possible d'appliquer un masque sur la zone géographique pour des parcelles plus biscornues\n",
    "    \"\"\"\n",
    "    #initialisation du modèle climatique\n",
    "    aez = CropSimulation.CropSimulation()\n",
    "    #3d numpy (x,y,t) des différents paramètres géo du modèle, via soilgrids\n",
    "    elevation, min_temp, rel_humidity, short_rad, wind_speed = params_geo(lat_min,lat_max,freq)\n",
    "    #masques anti valeurs aberrantes\n",
    "    rel_humidity[rel_humidity<0] = 0\n",
    "    short_rad[short_rad<0]=0\n",
    "    wind_speed[wind_speed<0]=0\n",
    "    #réglage des params long, lat et elevation\n",
    "    aez.setLocationTerrainData(lat_min, lat_max, elevation)\n",
    "    #réglage des autres params selon fréquences des données (journalières ou par mois)\n",
    "    if freq == 'daily':\n",
    "        aez.setDailyClimateData(min_temp, max_temp, precipitation, short_rad, wind_speed, rel_humidity)\n",
    "    else: #freq == 'monthly', moins précis\n",
    "        aez.setMonthlyClimateData(min_temp, max_temp, precipitation, short_rad, wind_speed, rel_humidity)\n",
    "    return aez\n",
    "\n",
    "def run_aez(aez, clim_reg):\n",
    "    \"\"\"execute l'évolution de la parcelle (version pluie et version irriguée), renvoyant les rendements\n",
    "    Nombreux paramètres à régler, on se contente ici du minimum\n",
    "    \"\"\"\n",
    "    tclimate = clim_reg.getThermalClimate()\n",
    "    #utilisation d'un output du modèle geo pour input de modele agri\n",
    "    aez.setThermalClimateScreening(tclimate, no_t_climate=[2, 5, 6]) #no_t_climate = climats défavorables à la culture\n",
    "    #parametres du modele de culture ###### a comprendre et choisir, liés aux cultures #####\n",
    "    aez.setCropParameters(LAI=2.3, HI=0.33, legume=0, adaptability=4, cycle_len=115, D1=0.3, D2=1)\n",
    "    aez.setCropCycleParameters(stage_per=[16, 26, 33, 25], kc=[0.3, 1.2, 0.5], kc_all=0.85, yloss_f=[0.4, 0.4, 0.9, 0.5], yloss_f_all=1.25)\n",
    "    aez.setSoilWaterParameters(Sa=100, pc=0.5)\n",
    "    #execution du modele (peut etre long askip)\n",
    "    aez.simulateCropCycle( start_doy=1, end_doy=365, step_doy=1, leap_year=False) #resultats en kg / hectare\n",
    "\n",
    "def contraintes(clim_reg,aez,irr='R'):\n",
    "    \"\"\"prise en compte des contraintes climatiques, de sol et de terrain\n",
    "    A FINIR\n",
    "    \"\"\"\n",
    "    #module utile\n",
    "    obj_utilities = UtilitiesCalc.UtilitiesCalc()\n",
    "    \n",
    "    #contraintes climatiques\n",
    "    clim_constraints = ClimaticConstraints.ClimaticConstraints()\n",
    "    #recuperation de données geo\n",
    "    lgp = clim_reg.getLGP(Sa = 100)\n",
    "    lgp_class = clim_reg.getLGPClassified(lgp)\n",
    "    lgp_equv = clim_reg.getLGPEquivalent()\n",
    "    #pluie (Rain)\n",
    "    yield_map_rain = aez.getEstimatedYieldRainfed() \n",
    "    clim_adj_yield_rain = clim_constraints.applyClimaticConstraints(lgp_equv, yield_rain, 'R')\n",
    "    clim_adj_yield_rain_class = obj_utilities.classifyFinalYield(clim_adj_yield_irr)\n",
    "    #irrigée\n",
    "    yield_map_irr = aez.getEstimatedYieldIrrigated()\n",
    "    clim_adj_yield_irr = clim_constraints.applyClimaticConstraints(lgp_equv, yield_irr, 'I') \n",
    "    clim_adj_yield_irr_class = obj_utilities.classifyFinalYield(clim_adj_yield_irr)\n",
    "    \n",
    "    #contraintes du sol\n",
    "    soil_constraints = SoilConstraints.SoilConstraints()\n",
    "\n",
    "    #contraintes du terrain\n",
    "    terrain_constraints = TerrainConstraints.TerrainConstraints()\n"
   ]
  },
  {
   "cell_type": "markdown",
   "id": "7f608e47-cf86-49cc-8f68-dcaf3d019ad9",
   "metadata": {},
   "source": [
    "Le code est à finir mais pourrait permettre de faire tourner un modèle relativmeent réaliste. Il n'est cependant pas vraiment pensé pour de l'agroforesterie. Il faudrait réussir à l'adapter, je ne sais pas dans quelle mesure c'est réalisable. Mais l'avantage c'est que tout est open source et pas hyper obscur. \n",
    "\n",
    "Reste des trucs à coder notamment sur les jonctions avec les api."
   ]
  },
  {
   "cell_type": "code",
   "execution_count": null,
   "id": "027f25ce-3581-4966-b6ba-67a4cd2a4d0a",
   "metadata": {},
   "outputs": [],
   "source": []
  }
 ],
 "metadata": {
  "kernelspec": {
   "display_name": "Python 3 (ipykernel)",
   "language": "python",
   "name": "python3"
  },
  "language_info": {
   "codemirror_mode": {
    "name": "ipython",
    "version": 3
   },
   "file_extension": ".py",
   "mimetype": "text/x-python",
   "name": "python",
   "nbconvert_exporter": "python",
   "pygments_lexer": "ipython3",
   "version": "3.12.3"
  }
 },
 "nbformat": 4,
 "nbformat_minor": 5
}
